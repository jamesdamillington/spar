{
 "cells": [
  {
   "cell_type": "markdown",
   "metadata": {},
   "source": [
    "# Multiple Linear Regression\n",
    "\n",
    "Analysis of basic UK Climate Data using Multiple Regression (with [statsmodels](https://www.statsmodels.org/stable/index.html))\n",
    "\n",
    "## Setup\n",
    "Load required packages"
   ]
  },
  {
   "cell_type": "code",
   "execution_count": 1,
   "metadata": {},
   "outputs": [],
   "source": [
    "import pandas as pd\n",
    "import statsmodels.api as sm\n",
    "import statsmodels.formula.api as smf\n",
    "import matplotlib.pyplot as plt\n",
    "import seaborn as sns"
   ]
  },
  {
   "cell_type": "markdown",
   "metadata": {},
   "source": [
    "The data are for 20 weather stations across the UK. Read the data file into a Pandas DataFrame and check"
   ]
  },
  {
   "cell_type": "code",
   "execution_count": 2,
   "metadata": {},
   "outputs": [
    {
     "name": "stdout",
     "output_type": "stream",
     "text": [
      "<class 'pandas.core.frame.DataFrame'>\n",
      "RangeIndex: 20 entries, 0 to 19\n",
      "Data columns (total 6 columns):\n",
      " #   Column    Non-Null Count  Dtype  \n",
      "---  ------    --------------  -----  \n",
      " 0   max_temp  20 non-null     float64\n",
      " 1   min_temp  20 non-null     float64\n",
      " 2   rainfall  20 non-null     float64\n",
      " 3   Elev      20 non-null     int64  \n",
      " 4   Lat       20 non-null     float64\n",
      " 5   Long      20 non-null     float64\n",
      "dtypes: float64(5), int64(1)\n",
      "memory usage: 1.1 KB\n"
     ]
    }
   ],
   "source": [
    "df = pd.read_csv('../../data/climate/UKJanClimate.csv', header=0)\n",
    "df.info()"
   ]
  },
  {
   "cell_type": "code",
   "execution_count": 17,
   "metadata": {},
   "outputs": [
    {
     "data": {
      "text/html": [
       "<div>\n",
       "<style scoped>\n",
       "    .dataframe tbody tr th:only-of-type {\n",
       "        vertical-align: middle;\n",
       "    }\n",
       "\n",
       "    .dataframe tbody tr th {\n",
       "        vertical-align: top;\n",
       "    }\n",
       "\n",
       "    .dataframe thead th {\n",
       "        text-align: right;\n",
       "    }\n",
       "</style>\n",
       "<table border=\"1\" class=\"dataframe\">\n",
       "  <thead>\n",
       "    <tr style=\"text-align: right;\">\n",
       "      <th></th>\n",
       "      <th>max_temp</th>\n",
       "      <th>min_temp</th>\n",
       "      <th>rainfall</th>\n",
       "      <th>Elev</th>\n",
       "      <th>Lat</th>\n",
       "      <th>Long</th>\n",
       "    </tr>\n",
       "  </thead>\n",
       "  <tbody>\n",
       "    <tr>\n",
       "      <th>0</th>\n",
       "      <td>6.7</td>\n",
       "      <td>1.2</td>\n",
       "      <td>67.0</td>\n",
       "      <td>128</td>\n",
       "      <td>51.800</td>\n",
       "      <td>-0.350</td>\n",
       "    </tr>\n",
       "    <tr>\n",
       "      <th>1</th>\n",
       "      <td>8.1</td>\n",
       "      <td>3.1</td>\n",
       "      <td>41.6</td>\n",
       "      <td>47</td>\n",
       "      <td>51.477</td>\n",
       "      <td>0.004</td>\n",
       "    </tr>\n",
       "    <tr>\n",
       "      <th>2</th>\n",
       "      <td>7.8</td>\n",
       "      <td>2.2</td>\n",
       "      <td>82.3</td>\n",
       "      <td>59</td>\n",
       "      <td>51.454</td>\n",
       "      <td>-2.587</td>\n",
       "    </tr>\n",
       "    <tr>\n",
       "      <th>3</th>\n",
       "      <td>8.8</td>\n",
       "      <td>2.7</td>\n",
       "      <td>82.2</td>\n",
       "      <td>27</td>\n",
       "      <td>50.737</td>\n",
       "      <td>-3.405</td>\n",
       "    </tr>\n",
       "    <tr>\n",
       "      <th>4</th>\n",
       "      <td>6.7</td>\n",
       "      <td>1.4</td>\n",
       "      <td>73.2</td>\n",
       "      <td>66</td>\n",
       "      <td>52.767</td>\n",
       "      <td>-2.433</td>\n",
       "    </tr>\n",
       "    <tr>\n",
       "      <th>5</th>\n",
       "      <td>6.8</td>\n",
       "      <td>1.9</td>\n",
       "      <td>83.4</td>\n",
       "      <td>84</td>\n",
       "      <td>53.383</td>\n",
       "      <td>-1.483</td>\n",
       "    </tr>\n",
       "    <tr>\n",
       "      <th>6</th>\n",
       "      <td>9.2</td>\n",
       "      <td>3.8</td>\n",
       "      <td>123.5</td>\n",
       "      <td>32</td>\n",
       "      <td>50.352</td>\n",
       "      <td>-3.578</td>\n",
       "    </tr>\n",
       "    <tr>\n",
       "      <th>7</th>\n",
       "      <td>7.6</td>\n",
       "      <td>2.5</td>\n",
       "      <td>170.7</td>\n",
       "      <td>120</td>\n",
       "      <td>50.597</td>\n",
       "      <td>-3.716</td>\n",
       "    </tr>\n",
       "    <tr>\n",
       "      <th>8</th>\n",
       "      <td>6.0</td>\n",
       "      <td>1.0</td>\n",
       "      <td>202.7</td>\n",
       "      <td>324</td>\n",
       "      <td>51.772</td>\n",
       "      <td>-3.245</td>\n",
       "    </tr>\n",
       "    <tr>\n",
       "      <th>9</th>\n",
       "      <td>8.2</td>\n",
       "      <td>3.6</td>\n",
       "      <td>75.5</td>\n",
       "      <td>10</td>\n",
       "      <td>53.252</td>\n",
       "      <td>-4.537</td>\n",
       "    </tr>\n",
       "  </tbody>\n",
       "</table>\n",
       "</div>"
      ],
      "text/plain": [
       "   max_temp  min_temp  rainfall  Elev     Lat   Long\n",
       "0       6.7       1.2      67.0   128  51.800 -0.350\n",
       "1       8.1       3.1      41.6    47  51.477  0.004\n",
       "2       7.8       2.2      82.3    59  51.454 -2.587\n",
       "3       8.8       2.7      82.2    27  50.737 -3.405\n",
       "4       6.7       1.4      73.2    66  52.767 -2.433\n",
       "5       6.8       1.9      83.4    84  53.383 -1.483\n",
       "6       9.2       3.8     123.5    32  50.352 -3.578\n",
       "7       7.6       2.5     170.7   120  50.597 -3.716\n",
       "8       6.0       1.0     202.7   324  51.772 -3.245\n",
       "9       8.2       3.6      75.5    10  53.252 -4.537"
      ]
     },
     "execution_count": 17,
     "metadata": {},
     "output_type": "execute_result"
    }
   ],
   "source": [
    "df.head(10)"
   ]
  },
  {
   "cell_type": "markdown",
   "metadata": {},
   "source": [
    "# Checking Collinearity\n",
    "\n",
    "Independent variables must not be collinear (i.e. correlated amongst themselves). Generally variables need to be r < 0.5 or r > -0.5\n",
    "\n",
    "Check using a correlation matrix on our dataframe"
   ]
  },
  {
   "cell_type": "code",
   "execution_count": 4,
   "metadata": {},
   "outputs": [
    {
     "data": {
      "text/html": [
       "<div>\n",
       "<style scoped>\n",
       "    .dataframe tbody tr th:only-of-type {\n",
       "        vertical-align: middle;\n",
       "    }\n",
       "\n",
       "    .dataframe tbody tr th {\n",
       "        vertical-align: top;\n",
       "    }\n",
       "\n",
       "    .dataframe thead th {\n",
       "        text-align: right;\n",
       "    }\n",
       "</style>\n",
       "<table border=\"1\" class=\"dataframe\">\n",
       "  <thead>\n",
       "    <tr style=\"text-align: right;\">\n",
       "      <th></th>\n",
       "      <th>max_temp</th>\n",
       "      <th>min_temp</th>\n",
       "      <th>rainfall</th>\n",
       "      <th>Elev</th>\n",
       "      <th>Lat</th>\n",
       "      <th>Long</th>\n",
       "    </tr>\n",
       "  </thead>\n",
       "  <tbody>\n",
       "    <tr>\n",
       "      <th>max_temp</th>\n",
       "      <td>1.000</td>\n",
       "      <td>0.894</td>\n",
       "      <td>-0.135</td>\n",
       "      <td>-0.646</td>\n",
       "      <td>-0.683</td>\n",
       "      <td>-0.135</td>\n",
       "    </tr>\n",
       "    <tr>\n",
       "      <th>min_temp</th>\n",
       "      <td>0.894</td>\n",
       "      <td>1.000</td>\n",
       "      <td>-0.122</td>\n",
       "      <td>-0.567</td>\n",
       "      <td>-0.644</td>\n",
       "      <td>-0.017</td>\n",
       "    </tr>\n",
       "    <tr>\n",
       "      <th>rainfall</th>\n",
       "      <td>-0.135</td>\n",
       "      <td>-0.122</td>\n",
       "      <td>1.000</td>\n",
       "      <td>0.475</td>\n",
       "      <td>-0.017</td>\n",
       "      <td>-0.540</td>\n",
       "    </tr>\n",
       "    <tr>\n",
       "      <th>Elev</th>\n",
       "      <td>-0.646</td>\n",
       "      <td>-0.567</td>\n",
       "      <td>0.475</td>\n",
       "      <td>1.000</td>\n",
       "      <td>0.079</td>\n",
       "      <td>-0.222</td>\n",
       "    </tr>\n",
       "    <tr>\n",
       "      <th>Lat</th>\n",
       "      <td>-0.683</td>\n",
       "      <td>-0.644</td>\n",
       "      <td>-0.017</td>\n",
       "      <td>0.079</td>\n",
       "      <td>1.000</td>\n",
       "      <td>-0.073</td>\n",
       "    </tr>\n",
       "    <tr>\n",
       "      <th>Long</th>\n",
       "      <td>-0.135</td>\n",
       "      <td>-0.017</td>\n",
       "      <td>-0.540</td>\n",
       "      <td>-0.222</td>\n",
       "      <td>-0.073</td>\n",
       "      <td>1.000</td>\n",
       "    </tr>\n",
       "  </tbody>\n",
       "</table>\n",
       "</div>"
      ],
      "text/plain": [
       "          max_temp  min_temp  rainfall   Elev    Lat   Long\n",
       "max_temp     1.000     0.894    -0.135 -0.646 -0.683 -0.135\n",
       "min_temp     0.894     1.000    -0.122 -0.567 -0.644 -0.017\n",
       "rainfall    -0.135    -0.122     1.000  0.475 -0.017 -0.540\n",
       "Elev        -0.646    -0.567     0.475  1.000  0.079 -0.222\n",
       "Lat         -0.683    -0.644    -0.017  0.079  1.000 -0.073\n",
       "Long        -0.135    -0.017    -0.540 -0.222 -0.073  1.000"
      ]
     },
     "execution_count": 4,
     "metadata": {},
     "output_type": "execute_result"
    }
   ],
   "source": [
    "df.corr().round(3)"
   ]
  },
  {
   "cell_type": "code",
   "execution_count": 5,
   "metadata": {},
   "outputs": [
    {
     "data": {
      "text/plain": [
       "<AxesSubplot:>"
      ]
     },
     "execution_count": 5,
     "metadata": {},
     "output_type": "execute_result"
    },
    {
     "data": {
      "image/png": "[encoded data removed]",
      "text/plain": [
       "<Figure size 432x288 with 2 Axes>"
      ]
     },
     "metadata": {
      "needs_background": "light"
     },
     "output_type": "display_data"
    }
   ],
   "source": [
    "corrmat = df.corr()  #save as an object\n",
    "sns.heatmap(corrmat)  #then pass to heatmap"
   ]
  },
  {
   "cell_type": "code",
   "execution_count": 6,
   "metadata": {},
   "outputs": [
    {
     "data": {
      "text/plain": [
       "<AxesSubplot:>"
      ]
     },
     "execution_count": 6,
     "metadata": {},
     "output_type": "execute_result"
    },
    {
     "data": {
      "image/png": "[encoded data removed]",
      "text/plain": [
       "<Figure size 432x288 with 2 Axes>"
      ]
     },
     "metadata": {
      "needs_background": "light"
     },
     "output_type": "display_data"
    }
   ],
   "source": [
    "#with our own palette\n",
    "sns.heatmap(df.corr(method='spearman'), cmap=sns.diverging_palette(20, 220, n=200))"
   ]
  },
  {
   "cell_type": "markdown",
   "metadata": {},
   "source": [
    "# Fitting & Selecting Models \n",
    "\n",
    "## Fitting"
   ]
  },
  {
   "cell_type": "markdown",
   "metadata": {},
   "source": [
    "For a single variable we could do:"
   ]
  },
  {
   "cell_type": "code",
   "execution_count": 7,
   "metadata": {},
   "outputs": [
    {
     "data": {
      "image/png": "[encoded data removed]",
      "text/plain": [
       "<Figure size 432x288 with 1 Axes>"
      ]
     },
     "metadata": {
      "needs_background": "light"
     },
     "output_type": "display_data"
    }
   ],
   "source": [
    "#regplot adds a regression line https://seaborn.pydata.org/tutorial/regression.html\n",
    "sns.regplot(x=\"Lat\",\n",
    "           y=\"min_temp\",\n",
    "           data=df)\n",
    "plt.show()"
   ]
  },
  {
   "cell_type": "code",
   "execution_count": 8,
   "metadata": {},
   "outputs": [
    {
     "name": "stdout",
     "output_type": "stream",
     "text": [
      "                            OLS Regression Results                            \n",
      "==============================================================================\n",
      "Dep. Variable:               min_temp   R-squared:                       0.414\n",
      "Model:                            OLS   Adj. R-squared:                  0.382\n",
      "Method:                 Least Squares   F-statistic:                     12.72\n",
      "Date:                Tue, 16 Mar 2021   Prob (F-statistic):            0.00220\n",
      "Time:                        10:59:53   Log-Likelihood:                -23.402\n",
      "No. Observations:                  20   AIC:                             50.80\n",
      "Df Residuals:                      18   BIC:                             52.79\n",
      "Df Model:                           1                                         \n",
      "Covariance Type:            nonrobust                                         \n",
      "==============================================================================\n",
      "                 coef    std err          t      P>|t|      [0.025      0.975]\n",
      "------------------------------------------------------------------------------\n",
      "Intercept     23.9423      6.188      3.869      0.001      10.942      36.943\n",
      "Lat           -0.4191      0.118     -3.567      0.002      -0.666      -0.172\n",
      "==============================================================================\n",
      "Omnibus:                        1.820   Durbin-Watson:                   2.822\n",
      "Prob(Omnibus):                  0.403   Jarque-Bera (JB):                0.958\n",
      "Skew:                           0.535   Prob(JB):                        0.619\n",
      "Kurtosis:                       3.052   Cond. No.                     1.77e+03\n",
      "==============================================================================\n",
      "\n",
      "Notes:\n",
      "[1] Standard Errors assume that the covariance matrix of the errors is correctly specified.\n",
      "[2] The condition number is large, 1.77e+03. This might indicate that there are\n",
      "strong multicollinearity or other numerical problems.\n"
     ]
    }
   ],
   "source": [
    "#require import statsmodels.formula.api as smf\n",
    "lat_mod = smf.ols(\"min_temp ~ Lat\", data=df).fit()\n",
    "print (lat_mod.summary())"
   ]
  },
  {
   "cell_type": "markdown",
   "metadata": {},
   "source": [
    "For multiple predictor (independent) variables:"
   ]
  },
  {
   "cell_type": "code",
   "execution_count": 9,
   "metadata": {},
   "outputs": [
    {
     "name": "stdout",
     "output_type": "stream",
     "text": [
      "                            OLS Regression Results                            \n",
      "==============================================================================\n",
      "Dep. Variable:               min_temp   R-squared:                       0.683\n",
      "Model:                            OLS   Adj. R-squared:                  0.645\n",
      "Method:                 Least Squares   F-statistic:                     18.29\n",
      "Date:                Tue, 16 Mar 2021   Prob (F-statistic):           5.78e-05\n",
      "Time:                        10:59:53   Log-Likelihood:                -17.266\n",
      "No. Observations:                  20   AIC:                             40.53\n",
      "Df Residuals:                      17   BIC:                             43.52\n",
      "Df Model:                           2                                         \n",
      "Covariance Type:            nonrobust                                         \n",
      "==============================================================================\n",
      "                 coef    std err          t      P>|t|      [0.025      0.975]\n",
      "------------------------------------------------------------------------------\n",
      "Intercept     23.0995      4.691      4.925      0.000      13.203      32.996\n",
      "Lat           -0.3924      0.089     -4.397      0.000      -0.581      -0.204\n",
      "Elev          -0.0068      0.002     -3.794      0.001      -0.011      -0.003\n",
      "==============================================================================\n",
      "Omnibus:                        1.335   Durbin-Watson:                   2.121\n",
      "Prob(Omnibus):                  0.513   Jarque-Bera (JB):                0.522\n",
      "Skew:                           0.389   Prob(JB):                        0.770\n",
      "Kurtosis:                       3.140   Cond. No.                     4.04e+03\n",
      "==============================================================================\n",
      "\n",
      "Notes:\n",
      "[1] Standard Errors assume that the covariance matrix of the errors is correctly specified.\n",
      "[2] The condition number is large, 4.04e+03. This might indicate that there are\n",
      "strong multicollinearity or other numerical problems.\n"
     ]
    }
   ],
   "source": [
    "#require import statsmodels.formula.api as smf\n",
    "lat_elev_mod = smf.ols(\"min_temp ~ Lat + Elev\", data=df).fit()\n",
    "print (lat_elev_mod.summary())"
   ]
  },
  {
   "cell_type": "code",
   "execution_count": 10,
   "metadata": {
    "scrolled": false
   },
   "outputs": [
    {
     "name": "stdout",
     "output_type": "stream",
     "text": [
      "                            OLS Regression Results                            \n",
      "==============================================================================\n",
      "Dep. Variable:               min_temp   R-squared:                       0.716\n",
      "Model:                            OLS   Adj. R-squared:                  0.662\n",
      "Method:                 Least Squares   F-statistic:                     13.43\n",
      "Date:                Tue, 16 Mar 2021   Prob (F-statistic):           0.000123\n",
      "Time:                        10:59:54   Log-Likelihood:                -16.171\n",
      "No. Observations:                  20   AIC:                             40.34\n",
      "Df Residuals:                      16   BIC:                             44.32\n",
      "Df Model:                           3                                         \n",
      "Covariance Type:            nonrobust                                         \n",
      "==============================================================================\n",
      "                 coef    std err          t      P>|t|      [0.025      0.975]\n",
      "------------------------------------------------------------------------------\n",
      "Intercept     23.2774      4.579      5.083      0.000      13.570      32.985\n",
      "Lat           -0.3991      0.087     -4.576      0.000      -0.584      -0.214\n",
      "Elev          -0.0074      0.002     -4.091      0.001      -0.011      -0.004\n",
      "Long          -0.1157      0.085     -1.361      0.192      -0.296       0.065\n",
      "==============================================================================\n",
      "Omnibus:                        1.307   Durbin-Watson:                   2.214\n",
      "Prob(Omnibus):                  0.520   Jarque-Bera (JB):                0.891\n",
      "Skew:                           0.152   Prob(JB):                        0.640\n",
      "Kurtosis:                       2.011   Cond. No.                     4.05e+03\n",
      "==============================================================================\n",
      "\n",
      "Notes:\n",
      "[1] Standard Errors assume that the covariance matrix of the errors is correctly specified.\n",
      "[2] The condition number is large, 4.05e+03. This might indicate that there are\n",
      "strong multicollinearity or other numerical problems.\n"
     ]
    }
   ],
   "source": [
    "#require import statsmodels.formula.api as smf\n",
    "lat_elev_lon_mod = smf.ols(\"min_temp ~ Lat + Elev + Long\", data=df).fit()\n",
    "print (lat_elev_lon_mod.summary())"
   ]
  },
  {
   "cell_type": "markdown",
   "metadata": {},
   "source": [
    "## Model Selection\n",
    "\n",
    "Comparing the last few models:\n",
    "\n",
    "- which has the best $r^2$?\n",
    "- which independent variables are statistically significant at 95% confidence? \n",
    "- which model has the smallest AIC?\n",
    "- which models have differences in AIC (from the min) >2?\n",
    "- how do the Adjusted $r^2$ of the models look?\n",
    "\n",
    "\n",
    "The three-variable model has the largest $r^2$ (and Adjusted $r^2$) so explains most overall variation. However, the `Long` variable is not statistically significant (at 95% confidence). And the difference in AIC between two- and three-variables models is <2.   \n",
    "\n",
    "So... \n",
    "\n",
    "- For explanation, the two-variable model would be best as it is the most parsimonious and all independent variables are stat. sig. at 95%\n",
    "- For prediction, use three-variable model as it explains the most overall variance (i.e. is the most predictive)"
   ]
  },
  {
   "cell_type": "markdown",
   "metadata": {},
   "source": [
    "# Model Diagnostics"
   ]
  },
  {
   "cell_type": "markdown",
   "metadata": {},
   "source": [
    "As we created models above we really should have check model diagnostics to check assumptions of regression had not been violated. Let's just do it for the two-variable model here. \n",
    "\n",
    "## Normality of Residuals"
   ]
  },
  {
   "cell_type": "code",
   "execution_count": 11,
   "metadata": {},
   "outputs": [
    {
     "data": {
      "text/plain": [
       "Text(0.5, 0, 'Residuals')"
      ]
     },
     "execution_count": 11,
     "metadata": {},
     "output_type": "execute_result"
    },
    {
     "data": {
      "image/png": "[encoded data removed]",
      "text/plain": [
       "<Figure size 432x288 with 1 Axes>"
      ]
     },
     "metadata": {
      "needs_background": "light"
     },
     "output_type": "display_data"
    }
   ],
   "source": [
    "#n=20 so important to check normality!\n",
    "plt.hist(lat_elev_mod.resid_pearson, \n",
    "         edgecolor='black',\n",
    "         bins=[-2,-1.5,-1,-0.5,0,0.5,1,1.5,2])\n",
    "plt.xlabel('Residuals')"
   ]
  },
  {
   "cell_type": "code",
   "execution_count": 12,
   "metadata": {},
   "outputs": [
    {
     "data": {
      "text/plain": [
       "Text(0, 0.5, 'Standardized Residuals (z)')"
      ]
     },
     "execution_count": 12,
     "metadata": {},
     "output_type": "execute_result"
    },
    {
     "data": {
      "image/png": "[encoded data removed]",
      "text/plain": [
       "<Figure size 432x288 with 1 Axes>"
      ]
     },
     "metadata": {
      "needs_background": "light"
     },
     "output_type": "display_data"
    }
   ],
   "source": [
    "#better to make our own plot using standardised residuals (resid_pearson from the model object)\n",
    "plt.plot(lat_elev_mod.fittedvalues, lat_elev_mod.resid_pearson,\n",
    "         'oC0',  \n",
    "         markeredgecolor='black')\n",
    "plt.axhline(c = 'red')\n",
    "plt.xlabel('Predicted y Values')\n",
    "plt.ylabel('Standardized Residuals (z)')  "
   ]
  },
  {
   "cell_type": "code",
   "execution_count": 13,
   "metadata": {
    "scrolled": true
   },
   "outputs": [
    {
     "data": {
      "image/png": "[encoded data removed]",
      "text/plain": [
       "<Figure size 432x288 with 1 Axes>"
      ]
     },
     "metadata": {
      "needs_background": "light"
     },
     "output_type": "display_data"
    }
   ],
   "source": [
    "#lots of other ways to check (see https://www.statsmodels.org/dev/generated/statsmodels.graphics.gofplots.qqplot.html)\n",
    "qqfig = sm.qqplot(lat_elev_mod.resid_pearson, line='r')"
   ]
  },
  {
   "cell_type": "markdown",
   "metadata": {},
   "source": [
    "## Leverage and Influence\n",
    "\n",
    "*Leverage* is an indicator of how extreme our independent variable (i.e. elevation, latitude) values are for each observation (i.e. each location). It's important to identify observations with high leverage because in certain situations they may have an undue *influence* on the estimated regression function (and parameters). Points with undue influence should be considered for removal from the data used for a regression model (because there is something about them that means that are 'different' from the remaining data).\n",
    "\n",
    "Note, as [Charles Zaiontz](https://www.real-statistics.com/multiple-regression/outliers-and-influencers/) points out:\n",
    "\n",
    "> Keep in mind that since we are dealing with a multi-dimensional model, there may be data points that look perfectly fine in any single dimension but are multivariate outliers. E.g. for the general population, there is nothing unusual about a 6-foot man or a 125-pound man, but a 6-foot man that weighs 125 pounds is unusual.\n",
    "\n",
    "There's a nice intuitive blog on [Leverage and Influence in a Nutshell](https://www.r-bloggers.com/2016/06/leverage-and-influence-in-a-nutshell/) with an interactive plot that might help to understand the different issues discussed here (also see the other sources linked to here, and readings).  "
   ]
  },
  {
   "cell_type": "markdown",
   "metadata": {},
   "source": [
    "### The Influence Plot\n",
    "\n",
    "We can use [the `influence_plot` from statsmodels](https://www.statsmodels.org/dev/generated/statsmodels.graphics.regressionplots.influence_plot.html) to visualise leverage and influence:"
   ]
  },
  {
   "cell_type": "code",
   "execution_count": 14,
   "metadata": {},
   "outputs": [
    {
     "data": {
      "image/png": "[encoded data removed]",
      "text/plain": [
       "<Figure size 720x432 with 1 Axes>"
      ]
     },
     "metadata": {
      "needs_background": "light"
     },
     "output_type": "display_data"
    }
   ],
   "source": [
    "fig, ax = plt.subplots(figsize=(10,6))\n",
    "fig = sm.graphics.influence_plot(lat_elev_mod, alpha=0.05, \n",
    "                                 criterion=\"cooks\", ax=ax)"
   ]
  },
  {
   "cell_type": "markdown",
   "metadata": {},
   "source": [
    "The y-axis on this plot is the 'studentized' residuals - this is the same as 'standardized' residuals (z). This axis helps to identify outliers:\n",
    "\n",
    "> In linear regression, an outlier is an observation with large residual. In other words, it is an observation whose dependent-variable value is unusual given its values on the predictor variables. An outlier may indicate a sample peculiarity or may indicate a data entry error or other problem. [[source](https://songhuiming.github.io/pages/2016/11/27/linear-regression-in-python-outliers-leverage-detect/)]\n",
    "\n",
    "The x-axis on this plot is the measure of leverage. Leverage is:\n",
    "\n",
    ">  a measure of the distance between the $x$ value for the data point [i.e., observation] and the mean of the $x$ values for all $n$ data points. The leverage is a number between 0 and 1, inclusive. The sum of the equals $p$, the number of parameters (regression coefficients including the intercept). [[source](https://online.stat.psu.edu/stat501/lesson/11/11.2)]\n",
    "\n",
    "High leverage points [can be assumed](https://online.stat.psu.edu/stat501/lesson/11/11.2) to be those with leverage more than 3 times larger than the mean leverage.\n",
    "\n",
    "The size of the point indicates the value of [Cook's Distance](https://www.statsmodels.org/stable/generated/statsmodels.graphics.regressionplots.influence_plot.html) (we specified that with the `criterion` argument to `influence_plot`).\n",
    "\n",
    "> If we remove a point from the sample, then the equation for regression line changes. Points that have the most influence produce the largest change in the equation of the regression line. A measure of this influence is called *Cook’s Distance*. [[source](https://www.real-statistics.com/multiple-regression/outliers-and-influencers/)]\n",
    "\n",
    "Different people argue for different thresholds of Cook's Distance ($D$) greater than which a point should be considered as having undue influence. Some argue ($D=1$) is an appropriate threshold (as Cook himself did), while [others argue](https://stats.stackexchange.com/questions/87962/cooks-distance-cut-off-value) the threshold should be $4/n$, where $n$ is the number of data points. \n",
    "\n",
    "A problem with the statsmodels `influence_plot` is that it is difficult to know what value of $D$ a point has from the size of the point (especially as no legend is provided; we'll see how to output the actual $D$ values below).\n",
    "  \n",
    "Note that three points are labelled on the plot. Points that are labelled are:\n",
    "\n",
    "- outliers on the y-axis. \n",
    "- high leverage points on the x-axis. \n",
    "\n",
    "The definition of an outlier for statsmodels is given by the `alpha` argument. Here we used `0.05` so an outlier is any point with a standardized residual <-1.96 or >1.96 [[source](https://songhuiming.github.io/pages/2016/11/27/linear-regression-in-python-outliers-leverage-detect/)]. Statsmodels defines a high leverage point as $2\\frac{(df + 1)}{n}$ where $df$ is the degrees of freedom of the model. "
   ]
  },
  {
   "cell_type": "markdown",
   "metadata": {},
   "source": [
    "However, just because a point is indicated in the `influence_plot` with a label, does not mean these points actually have *undue* influence. Ultimately, because influence can be thought of as the product of leverage and outlierness, the points we want to be most worried about are:\n",
    "\n",
    "- those with high $D$ (i.e the largest points)\n",
    "- those points with both high leverage and large (absolute) residuals (i.e. those in the top right or bottom right corners of the plot). "
   ]
  },
  {
   "cell_type": "markdown",
   "metadata": {},
   "source": [
    "As noted above it is difficult to assess from the point size what the value of Cook's Distance $D$ is. We can access the values directly as follows:"
   ]
  },
  {
   "cell_type": "code",
   "execution_count": 15,
   "metadata": {},
   "outputs": [
    {
     "data": {
      "text/plain": [
       "array([0.04215318, 0.02403809, 0.00772762, 0.01559586, 0.0148175 ,\n",
       "       0.00626686, 0.09881305, 0.00106949, 0.49520275, 0.24100009,\n",
       "       0.0533576 , 0.07340911, 0.00430093, 0.00095666, 0.0090684 ,\n",
       "       0.01176918, 0.19315435, 0.01554718, 0.00580292, 0.0072719 ])"
      ]
     },
     "execution_count": 15,
     "metadata": {},
     "output_type": "execute_result"
    }
   ],
   "source": [
    "lat_elev_mod.get_influence().cooks_distance[0]"
   ]
  },
  {
   "cell_type": "markdown",
   "metadata": {},
   "source": [
    "From this we can see we have no points with $D>1$ but using the $D > 4/n$ (0.2) we find that two points could be considered to have undue influence. \n",
    "\n",
    "However, \n",
    "\n",
    "> It’s important to note that Cook’s Distance is often used as a way to identify influential data points. Just because a data point is influential doesn’t mean it should necessarily be deleted – first you should check to see if the data point has simply been incorrectly recorded or if there is something strange about the data point that may point to an interesting finding. [[source](https://www.statology.org/how-to-identify-influential-data-points-using-cooks-distance/)]\n",
    "\n",
    "In this case, points 8 and 9 are ones we should consider investigating further (8 due to highest $D$ value and 9 because it's an outlier with some leverage, but not too extreme) and all other points are likely fine. "
   ]
  },
  {
   "cell_type": "markdown",
   "metadata": {},
   "source": [
    "### Partial Regression Plots\n",
    "\n",
    "Another way to visualise leverage and influence that some people use is [partial regression plots](https://en.wikipedia.org/wiki/Partial_regression_plot). \n",
    "\n",
    "The partial regression plot is useful to detect outliers and check that the relationships between independent and dependent variables make sense. In univariate regression identifying these things would be straight-forward with a scatter plot of the dependent variable against the (single) independent variable. However, it is not so striaght-forward to do this for multivariate regression models. Remember,\n",
    "\n",
    ">The estimates of the beta values measure the expected change in the Y value, given a one-unit change in the X variable, *holding all other X variables constant*. (Harris 2016, p.197, emphasis added)\n",
    "\n",
    "Simply regressing multiple independent variables against the dependent variable do not visualise the results of the multiple regression model, because the other independent variables are not being held constant (and as we saw above, all independent variables are correlated to a degree). However, partial regression plots *are* able to to control for this variation. \n",
    "\n",
    "A partial regression plot is a scatter plot of residuals from regression models of:\n",
    "\n",
    "- the dependent variable against all the independent variables except the one of interest\n",
    "- the independent variable of interest against all the other independent variables\n",
    "\n",
    "This means we get a scatter plot for *every* independent variable (as well as the intercept). \n",
    "\n",
    "We can use [the `plot_partregress_grid` function](https://www.statsmodels.org/dev/generated/statsmodels.graphics.regressionplots.plot_partregress_grid.html) in statsmodels to produce a partial regression plot for our `lat_elev_mod` fit model object:"
   ]
  },
  {
   "cell_type": "code",
   "execution_count": 16,
   "metadata": {
    "scrolled": false
   },
   "outputs": [
    {
     "data": {
      "image/png": "[encoded data removed]",
      "text/plain": [
       "<Figure size 864x576 with 3 Axes>"
      ]
     },
     "metadata": {
      "needs_background": "light"
     },
     "output_type": "display_data"
    }
   ],
   "source": [
    "fig = plt.figure(figsize=(12,8))\n",
    "fig = sm.graphics.plot_partregress_grid(lat_elev_mod, fig=fig)"
   ]
  },
  {
   "cell_type": "markdown",
   "metadata": {},
   "source": [
    "In these scatter plots the OLS regression line has a slope $\\beta_i$ (i.e. the regression coefficient from the model) and intercept zero. Outliers are points far from the OLS regression line in the partial regression scatter plots. "
   ]
  },
  {
   "cell_type": "markdown",
   "metadata": {},
   "source": [
    "# Further Reading\n",
    "\n",
    "Chapter 10 in Harris (2016) *Quantitative Geography* London: SAGE\n",
    "\n",
    "Chapter 7 in Harris and Jarvis (2011) *Statistics for Geography and Environmental Science* Harlow: Prentice-Hall"
   ]
  },
  {
   "cell_type": "markdown",
   "metadata": {},
   "source": [
    "# Credits!\n",
    "\n",
    "## Contributors:\n",
    "The following individual(s) have contributed to these teaching materials: James Millington (james.millington@kcl.ac.uk).\n",
    "\n",
    "## License\n",
    "These teaching materials are licensed under a mix of [The MIT License](https://opensource.org/licenses/mit-license.php) and the [Creative Commons Attribution-NonCommercial-ShareAlike 4.0 license](https://creativecommons.org/licenses/by-nc-sa/4.0/)."
   ]
  },
  {
   "cell_type": "code",
   "execution_count": null,
   "metadata": {},
   "outputs": [],
   "source": []
  }
 ],
 "metadata": {
  "kernelspec": {
   "display_name": "Python 3",
   "language": "python",
   "name": "python3"
  },
  "language_info": {
   "codemirror_mode": {
    "name": "ipython",
    "version": 3
   },
   "file_extension": ".py",
   "mimetype": "text/x-python",
   "name": "python",
   "nbconvert_exporter": "python",
   "pygments_lexer": "ipython3",
   "version": "3.6.11"
  }
 },
 "nbformat": 4,
 "nbformat_minor": 4
}
