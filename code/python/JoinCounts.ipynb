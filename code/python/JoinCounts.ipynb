{
 "cells": [
  {
   "cell_type": "markdown",
   "metadata": {},
   "source": [
    "# Join Counts\n",
    "\n",
    "This python notebook provides a theoretical background to the Join Counts method for measuring [spatial autocorrelation](https://en.wikipedia.org/wiki/Spatial_analysis#Spatial_auto-correlation), using the [`Join_Counts` function](https://pysal.org/esda/generated/esda.Join_Counts.html#esda.Join_Counts) from the [PySAL esda module](https://pysal.org/esda/index.html). \n",
    "\n",
    "The joins count test for spatial autocorrelation was developed by [Cliff and Ord (1973)](https://doi.org/10.1177/030913259501900205), as described and worked through in Chapter 7 of [O'Sullivan and Unwin (2003)](https://books.google.co.uk/books/about/Geographic_Information_Analysis.html?id=K_kQN-GO7uUC):\n",
    "\n",
    "> The joins count statistic is applied to a map of areal units where each unit is classified as either black (B) or white (W). ... The *joins count* is determined by counting the number of occurrences in the map of each of the possible joins between neighbouring areal units. The possible joins are BB, WW and BW/WB ... \n",
    "\n",
    "This notebook works through the content of [section 7.4](https://github.com/jamesdamillington/john-snow/blob/main/pdf/OSullivanUnwin2003_Section7_4.pdf) [pdf] of O'Sullivan and Unwin (**2003**); a less detailed derivation is provided in the 2010 edition of their book."
   ]
  },
  {
   "cell_type": "markdown",
   "metadata": {},
   "source": [
    "## Setting up the grids\n",
    "\n",
    "In their working, O'Sullivan and Unwin (2003) use three 6x6 grids to demonstrate the theory. The first section of this notebook sets up such grids to allow us to explore join counts with python. \n",
    "\n",
    "First, import required libraries (for the entire notebook): "
   ]
  },
  {
   "cell_type": "code",
   "execution_count": 1,
   "metadata": {},
   "outputs": [],
   "source": [
    "import geopandas as gpd\n",
    "import numpy as np\n",
    "\n",
    "from shapely.geometry import Polygon\n",
    "\n",
    "from pysal.lib import weights\n",
    "from pysal.explore import esda\n",
    "\n",
    "import matplotlib.pyplot as plt"
   ]
  },
  {
   "cell_type": "markdown",
   "metadata": {},
   "source": [
    "We generate a basic grid similar to other notebooks on Spatial Weights (from [Rey et al. 2020](https://geographicdata.science/book/notebooks/04_spatial_weights.html#contiguity-weights)). "
   ]
  },
  {
   "cell_type": "code",
   "execution_count": 2,
   "metadata": {},
   "outputs": [
    {
     "data": {
      "image/png": "[encoded data removed]",
      "text/plain": [
       "<Figure size 432x288 with 1 Axes>"
      ]
     },
     "metadata": {
      "needs_background": "light"
     },
     "output_type": "display_data"
    }
   ],
   "source": [
    "#hacked from https://geographicdata.science/book/notebooks/04_spatial_weights.html#contiguity-weights\n",
    "\n",
    "# Get points in a grid\n",
    "l = np.arange(6)\n",
    "xs, ys = np.meshgrid(l, l)\n",
    "\n",
    "# Set up store\n",
    "polys = []\n",
    "\n",
    "# Generate polygons (flipped x,y to number up/down rather than left/right)\n",
    "for y, x in zip(xs.flatten(), ys.flatten()):\n",
    "    poly = Polygon([(x, y), (x+1, y), (x+1, y+1), (x, y+1)])\n",
    "    polys.append(poly)\n",
    "\n",
    "# Convert to GeoSeries\n",
    "polys = gpd.GeoSeries(polys)\n",
    "sgrid = gpd.GeoDataFrame({'geometry': polys, \n",
    "                        'id': [i for i in range(len(polys))]})   \n",
    "\n",
    "#plot\n",
    "f,ax = plt.subplots(1,1, subplot_kw=dict(aspect='equal'))\n",
    "sgrid.plot(facecolor='w', edgecolor='k', ax=ax)\n",
    "[ax.text(x, y, t, \n",
    "          verticalalignment='center',\n",
    "          horizontalalignment='center') for x, y, t in zip(\n",
    "         [p.centroid.x-.25 for p in polys],\n",
    "         [p.centroid.y-.25 for p in polys],\n",
    "         [i for i in sgrid['id']])]\n",
    "plt.gca().set_axis_off()"
   ]
  },
  {
   "cell_type": "code",
   "execution_count": 3,
   "metadata": {},
   "outputs": [],
   "source": [
    "#function to visualise the grids we create\n",
    "def singlePlot(col, data=sgrid):\n",
    "    fig, ax = plt.subplots(1,figsize=(4,4))\n",
    "    sgrid.plot(column=col, edgecolor='w', cmap='viridis_r', ax=ax)\n",
    "    ax.set_title(col)\n",
    "    ax.axis('off')\n",
    "    plt.show()"
   ]
  },
  {
   "cell_type": "markdown",
   "metadata": {},
   "source": [
    "Generate BW grid for 'positive correlation' (two halves) - Figure 7.5a of O'Sullivan and Unwin (2003):"
   ]
  },
  {
   "cell_type": "code",
   "execution_count": 4,
   "metadata": {},
   "outputs": [
    {
     "data": {
      "image/png": "[encoded data removed]",
      "text/plain": [
       "<Figure size 288x288 with 1 Axes>"
      ]
     },
     "metadata": {
      "needs_background": "light"
     },
     "output_type": "display_data"
    }
   ],
   "source": [
    "sgrid['Positive'] = np.where(sgrid['id']<18, 1, 0)\n",
    "singlePlot('Positive')"
   ]
  },
  {
   "cell_type": "markdown",
   "metadata": {},
   "source": [
    "Generate BW grid for 'negative correlation' (chess board) - Figure 7.5c of O'Sullivan and Unwin (2003):"
   ]
  },
  {
   "cell_type": "code",
   "execution_count": 5,
   "metadata": {},
   "outputs": [
    {
     "name": "stdout",
     "output_type": "stream",
     "text": [
      "[1, 0, 1, 0, 1, 0, 0, 1, 0, 1, 0, 1, 1, 0, 1, 0, 1, 0, 0, 1, 0, 1, 0, 1, 1, 0, 1, 0, 1, 0, 0, 1, 0, 1, 0, 1]\n"
     ]
    },
    {
     "data": {
      "image/png": "[encoded data removed]",
      "text/plain": [
       "<Figure size 288x288 with 1 Axes>"
      ]
     },
     "metadata": {
      "needs_background": "light"
     },
     "output_type": "display_data"
    }
   ],
   "source": [
    "row1 = [1, 0, 1, 0, 1, 0]\n",
    "row2 = [0, 1, 0, 1, 0, 1]\n",
    "\n",
    "neg = row1 + row2\n",
    "neg = neg * 3\n",
    "print(neg)\n",
    "sgrid['Negative'] = neg\n",
    "singlePlot('Negative')"
   ]
  },
  {
   "cell_type": "markdown",
   "metadata": {},
   "source": [
    "The third grid O'Sullivan and Unwin (2003) present - Figure 7.5b - was created by flipping a coin. Code to reproduce their random grid exactly is provided in the section below on <a href=\"analyic\">Analytic Statistical Significance</a>, but for most of this notebook we will use our own randomly generated grid:"
   ]
  },
  {
   "cell_type": "code",
   "execution_count": 6,
   "metadata": {},
   "outputs": [
    {
     "name": "stdout",
     "output_type": "stream",
     "text": [
      "[1, 1, 0, 0, 0, 1, 0, 1, 0, 1, 1, 1, 0, 0, 0, 0, 1, 1, 1, 1, 0, 1, 0, 0, 0, 0, 0, 1, 1, 1, 0, 1, 0, 0, 1, 1]\n"
     ]
    },
    {
     "data": {
      "image/png": "[encoded data removed]",
      "text/plain": [
       "<Figure size 288x288 with 1 Axes>"
      ]
     },
     "metadata": {
      "needs_background": "light"
     },
     "output_type": "display_data"
    }
   ],
   "source": [
    "b = [1] * 18\n",
    "w = [0] * 18\n",
    "randbw = b + w\n",
    "np.random.seed(2)  #change seed to generate different outcomes\n",
    "np.random.shuffle(randbw)\n",
    "print(randbw)\n",
    "\n",
    "sgrid['Random'] = randbw\n",
    "singlePlot('Random')"
   ]
  },
  {
   "cell_type": "markdown",
   "metadata": {},
   "source": [
    "Let's quickly visualise the DataFrame we've created:"
   ]
  },
  {
   "cell_type": "code",
   "execution_count": 7,
   "metadata": {},
   "outputs": [
    {
     "data": {
      "text/html": [
       "<div>\n",
       "<style scoped>\n",
       "    .dataframe tbody tr th:only-of-type {\n",
       "        vertical-align: middle;\n",
       "    }\n",
       "\n",
       "    .dataframe tbody tr th {\n",
       "        vertical-align: top;\n",
       "    }\n",
       "\n",
       "    .dataframe thead th {\n",
       "        text-align: right;\n",
       "    }\n",
       "</style>\n",
       "<table border=\"1\" class=\"dataframe\">\n",
       "  <thead>\n",
       "    <tr style=\"text-align: right;\">\n",
       "      <th></th>\n",
       "      <th>geometry</th>\n",
       "      <th>id</th>\n",
       "      <th>Positive</th>\n",
       "      <th>Negative</th>\n",
       "      <th>Random</th>\n",
       "    </tr>\n",
       "  </thead>\n",
       "  <tbody>\n",
       "    <tr>\n",
       "      <th>0</th>\n",
       "      <td>POLYGON ((0.00000 0.00000, 1.00000 0.00000, 1....</td>\n",
       "      <td>0</td>\n",
       "      <td>1</td>\n",
       "      <td>1</td>\n",
       "      <td>1</td>\n",
       "    </tr>\n",
       "    <tr>\n",
       "      <th>1</th>\n",
       "      <td>POLYGON ((0.00000 1.00000, 1.00000 1.00000, 1....</td>\n",
       "      <td>1</td>\n",
       "      <td>1</td>\n",
       "      <td>0</td>\n",
       "      <td>1</td>\n",
       "    </tr>\n",
       "    <tr>\n",
       "      <th>2</th>\n",
       "      <td>POLYGON ((0.00000 2.00000, 1.00000 2.00000, 1....</td>\n",
       "      <td>2</td>\n",
       "      <td>1</td>\n",
       "      <td>1</td>\n",
       "      <td>0</td>\n",
       "    </tr>\n",
       "    <tr>\n",
       "      <th>3</th>\n",
       "      <td>POLYGON ((0.00000 3.00000, 1.00000 3.00000, 1....</td>\n",
       "      <td>3</td>\n",
       "      <td>1</td>\n",
       "      <td>0</td>\n",
       "      <td>0</td>\n",
       "    </tr>\n",
       "    <tr>\n",
       "      <th>4</th>\n",
       "      <td>POLYGON ((0.00000 4.00000, 1.00000 4.00000, 1....</td>\n",
       "      <td>4</td>\n",
       "      <td>1</td>\n",
       "      <td>1</td>\n",
       "      <td>0</td>\n",
       "    </tr>\n",
       "  </tbody>\n",
       "</table>\n",
       "</div>"
      ],
      "text/plain": [
       "                                            geometry  id  Positive  Negative  \\\n",
       "0  POLYGON ((0.00000 0.00000, 1.00000 0.00000, 1....   0         1         1   \n",
       "1  POLYGON ((0.00000 1.00000, 1.00000 1.00000, 1....   1         1         0   \n",
       "2  POLYGON ((0.00000 2.00000, 1.00000 2.00000, 1....   2         1         1   \n",
       "3  POLYGON ((0.00000 3.00000, 1.00000 3.00000, 1....   3         1         0   \n",
       "4  POLYGON ((0.00000 4.00000, 1.00000 4.00000, 1....   4         1         1   \n",
       "\n",
       "   Random  \n",
       "0       1  \n",
       "1       1  \n",
       "2       0  \n",
       "3       0  \n",
       "4       0  "
      ]
     },
     "execution_count": 7,
     "metadata": {},
     "output_type": "execute_result"
    }
   ],
   "source": [
    "sgrid.head()"
   ]
  },
  {
   "cell_type": "markdown",
   "metadata": {},
   "source": [
    "In our data we have `1`s for B and `0`s for W. \n",
    "\n",
    "And we can visualise all the grids together:  <a name=\"vis\"></a>"
   ]
  },
  {
   "cell_type": "code",
   "execution_count": 8,
   "metadata": {},
   "outputs": [
    {
     "data": {
      "image/png": "[encoded data removed]",
      "text/plain": [
       "<Figure size 864x432 with 3 Axes>"
      ]
     },
     "metadata": {
      "needs_background": "light"
     },
     "output_type": "display_data"
    }
   ],
   "source": [
    "fig, ax = plt.subplots(1,3,figsize=(12, 6))\n",
    "ax=ax.flatten()\n",
    "for idx, val in enumerate(list(sgrid.loc[:,'Positive':'Random'])):\n",
    "    sgrid.plot(column=val, edgecolor='w', cmap='viridis_r', ax=ax[idx])\n",
    "    ax[idx].set_title(val)\n",
    "    ax[idx].axis('off')\n",
    "plt.show()"
   ]
  },
  {
   "cell_type": "markdown",
   "metadata": {},
   "source": [
    "# Essentials of Join Counts <a name=\"essentials\"></a>\n",
    "\n",
    "Join counts are a special case of [*Contiguity Spatial Weights*](https://geographicdata.science/book/notebooks/04_spatial_weights.html#contiguity-weights), the difference being that neighbours are now deemed to be 'joined' differently depending on whether they are alike (i.e. both of the same type; BB and WW joins) or unalike (i.e. different types; BW join). However, similar to contiguity weights, we still need to decide whether to use the Queen Rule or the Rook Rule. \n",
    "\n",
    "So the first step in calculating join counts with PySAL is to a create spatial weights object using contiguity rules. Here we'll examine both Queen and Rook: "
   ]
  },
  {
   "cell_type": "code",
   "execution_count": 9,
   "metadata": {},
   "outputs": [],
   "source": [
    "RW = weights.contiguity.Rook.from_dataframe(sgrid, idVariable='id')\n",
    "QW = weights.contiguity.Queen.from_dataframe(sgrid, idVariable='id')"
   ]
  },
  {
   "cell_type": "markdown",
   "metadata": {},
   "source": [
    "Note, that these weights objects are created *irrespective* of B and W values in the grid cells. These spatial weights are concerned with the spatial relationship only; they define neighbours, not joins. The different types of joins (BB, WW, BW) are established by the [`Join_Counts` function](https://pysal.org/esda/generated/esda.Join_Counts.html#esda.Join_Counts), which takes a `weights.contiguity` spatial weights object as an argument. The full list of parameters we can pass `Join_Counts` is as follows:\n",
    "```\n",
    "y (array):          binary variable measured across n spatial units\n",
    "w (W):              spatial weights instance \n",
    "permutations (int): number of random permutations for calculation of pseudo-p_values`\n",
    "```\n",
    "\n",
    "The default value for `permutations` is 999. We'll see more on this below. \n",
    "\n",
    "For now, our first Join Counts object will be created for the *Positive* grid (by passing the `sgrid['Positive']` binary array) and using *Rook Rule* (by passing `RW` contiguity weights object) as follows:"
   ]
  },
  {
   "cell_type": "code",
   "execution_count": 10,
   "metadata": {},
   "outputs": [],
   "source": [
    "posJCR = esda.join_counts.Join_Counts(sgrid['Positive'], RW)"
   ]
  },
  {
   "cell_type": "markdown",
   "metadata": {},
   "source": [
    "There are numerous attributes we can access in the `join_count` objects produced, including counts of the different types of joins, the total number of joins, the original data, and estimated p-values to infer if there is significant spatial autocorrelation (or otherwise). \n",
    "\n",
    "To get the number (count) of BB joins:"
   ]
  },
  {
   "cell_type": "code",
   "execution_count": 11,
   "metadata": {},
   "outputs": [
    {
     "data": {
      "text/plain": [
       "27.0"
      ]
     },
     "execution_count": 11,
     "metadata": {},
     "output_type": "execute_result"
    }
   ],
   "source": [
    "posJCR.bb"
   ]
  },
  {
   "cell_type": "markdown",
   "metadata": {},
   "source": [
    "To get the number (count) of WW joins:"
   ]
  },
  {
   "cell_type": "code",
   "execution_count": 12,
   "metadata": {},
   "outputs": [
    {
     "data": {
      "text/plain": [
       "27.0"
      ]
     },
     "execution_count": 12,
     "metadata": {},
     "output_type": "execute_result"
    }
   ],
   "source": [
    "posJCR.ww"
   ]
  },
  {
   "cell_type": "markdown",
   "metadata": {},
   "source": [
    "To get the number (count) of BW joins:"
   ]
  },
  {
   "cell_type": "code",
   "execution_count": 13,
   "metadata": {},
   "outputs": [
    {
     "data": {
      "text/plain": [
       "6.0"
      ]
     },
     "execution_count": 13,
     "metadata": {},
     "output_type": "execute_result"
    }
   ],
   "source": [
    "posJCR.bw"
   ]
  },
  {
   "cell_type": "markdown",
   "metadata": {},
   "source": [
    "To get the total number (count) of all types of join:"
   ]
  },
  {
   "cell_type": "code",
   "execution_count": 14,
   "metadata": {},
   "outputs": [
    {
     "data": {
      "text/plain": [
       "60.0"
      ]
     },
     "execution_count": 14,
     "metadata": {},
     "output_type": "execute_result"
    }
   ],
   "source": [
    "posJCR.J"
   ]
  },
  {
   "cell_type": "markdown",
   "metadata": {},
   "source": [
    "From these values we can get a quick idea of whether there are more alike joins compared to unalike joins, and the sort of proportion those contribute to the total number of joins.   \n",
    "\n",
    "You should be able to see that in our 'positive' grid the total number of alike joins (54) dominates the number of unalike joins (6). <a href=\"#vis\">See</a> how the six unalike joins are those linking the Black-White cells down the central column of the grid; all other joins are alike (either Black-with-Black or White-with-White). "
   ]
  },
  {
   "cell_type": "markdown",
   "metadata": {},
   "source": [
    "Already we can see how the join counts method helps to assess spatial autocorrelation:\n",
    "\n",
    "- a much greater number of alike joins implies the presence of positive spatial autocorrelation\n",
    "- a similar number of alike and unalike joins implies a lack of spatial autocorrelation\n",
    "- a much greater number of unalike joins implies the presence of negative spatial autocorrelation"
   ]
  },
  {
   "cell_type": "markdown",
   "metadata": {},
   "source": [
    "While this is a quick way to judge for possible spatial autocorrelation, we need to do more calculations to be able to assess whether there is any statistically significant (at a chosen level of confidence) autocorrelation. The two main ways to do this are:\n",
    "\n",
    "1. <a href=\"#analytic\">Analytically</a> using equations derived from probability theory\n",
    "2. Using a <a href=\"#perm\">permutation approach</a> with many, many random grids\n",
    "\n",
    "We need to write some more code to do 1) and an example using Python is shown below. However, the PySAL `join_counts` function does 2) for us, and this approach is more frequently used so we will consider it here first. However, you are encouraged to contine to review the analytical method to help compound your understanding. "
   ]
  },
  {
   "cell_type": "markdown",
   "metadata": {},
   "source": [
    "# Statistical Significance: Permutation <a name=\"perm\"></a>\n",
    "\n",
    "When investigating spatial autocorrelation, a question we often have is whether the observed configuration (spatial pattern) is statistically significantly different from a random spatial configuration. \n",
    "\n",
    "One way to assess this is to artifically simulate many, many spatial configurations (permutations) using the same input data set; each permutation takes the observed Black and White regions and shuffles them randomly into spatial locations. You can think of this as repeatedly running the code above that generates the *Random* grid (using a different random seed each time). \n",
    "\n",
    "We can then compare our statistic of spatial autocorrelation (e.g. counts of BB) for our observed configuration to the statistic for *all* the permutations. The ratio of the number of times the simulated statistic is greater than (or equal to) the statistic for the observed configuration can then be treated as a *pseudo* p-value for the null hypothesis that there is no difference between simulated (random) and observed statistics: \n",
    "\n",
    "*pseudo_P = (C_greater + 1) / (C_permutations + 1)*\n",
    "\n",
    "where *C_greater* is the count of times statistic *s* is greater than (or equal to) the permutation *s*, and *C_permutations* is the count of permutations. In PySAL, statistic *s* can be the count of BB joins or the count of BW joins (i.e. we can get a pseudo p-value for these statistics). \n",
    "\n",
    "So for example, let's check the p-value for BB and BW counts for the `posJCR` grid above, using `.p_sim_bb` and `.p_sim_bw` attributes:"
   ]
  },
  {
   "cell_type": "code",
   "execution_count": 15,
   "metadata": {},
   "outputs": [
    {
     "data": {
      "text/plain": [
       "0.001"
      ]
     },
     "execution_count": 15,
     "metadata": {},
     "output_type": "execute_result"
    }
   ],
   "source": [
    "posJCR.p_sim_bb"
   ]
  },
  {
   "cell_type": "code",
   "execution_count": 16,
   "metadata": {},
   "outputs": [
    {
     "data": {
      "text/plain": [
       "1.0"
      ]
     },
     "execution_count": 16,
     "metadata": {},
     "output_type": "execute_result"
    }
   ],
   "source": [
    "posJCR.p_sim_bw"
   ]
  },
  {
   "cell_type": "markdown",
   "metadata": {},
   "source": [
    "Remember, hypotheses for [these p-values](https://pysal.org/esda/generated/esda.Join_Counts.html#esda.Join_Counts) are:\n",
    "- Null: complete spatial randomness\n",
    "- Alternative: the observed bw or bb is greater than under randomness"
   ]
  },
  {
   "cell_type": "markdown",
   "metadata": {},
   "source": [
    "So the results above indicate that at 95% confidence we can reject the null hypothesis for BB (because pseudo p < 0.05) but not for BW (because pseudo p >= 0.05). In turn, this means we can say that at 95% confidence there is positive spatial autocorrelation (according to the join counts statistic).  "
   ]
  },
  {
   "cell_type": "markdown",
   "metadata": {},
   "source": [
    "PySAL enables access to the results of the permutations via `.sim_bb` and `.sim_bw` attributes, so we could check how the pseudo p-values were calculated for ourselves: "
   ]
  },
  {
   "cell_type": "code",
   "execution_count": 17,
   "metadata": {},
   "outputs": [
    {
     "name": "stdout",
     "output_type": "stream",
     "text": [
      "[15. 14. 18. 16. 16. 14. 13. 17. 15. 11. 16. 12. 14. 12. 19. 14. 14. 15.\n",
      " 15. 15. 14. 16. 17. 15. 14. 16. 14. 12. 18. 13. 16. 10. 14. 15. 13. 13.\n",
      " 14. 21. 13. 14. 19. 16. 12. 15. 13. 18. 14. 18. 14. 17. 16. 14. 17. 11.\n",
      " 14. 14. 13. 13. 14. 13. 18. 14. 14. 14.  9. 14. 12. 18. 14. 17. 10. 15.\n",
      " 12. 11. 14. 13. 18. 15. 15. 14. 16. 15. 14. 15. 13. 11. 15. 14. 17. 13.\n",
      " 15. 13. 12. 11. 15. 16. 19. 16. 15. 14. 16. 15. 16. 15. 17. 15. 17. 19.\n",
      " 13. 14. 15. 16. 13. 13. 16. 11. 13. 16. 14. 12. 15. 14. 13. 17. 13. 16.\n",
      " 14. 11. 15. 14. 11. 14. 12. 13. 13. 14. 15. 15. 16. 10. 15. 14. 17. 17.\n",
      " 15. 15. 13. 14. 13. 16. 11. 13. 11. 14. 12. 15. 14. 14. 14. 13. 10. 16.\n",
      " 13. 15. 14. 18. 16. 14. 12. 12. 14. 13. 19. 15. 14. 11. 15. 14. 14. 15.\n",
      " 15. 14. 18. 17. 12. 13. 14. 13. 14. 16. 15. 15. 17. 12. 12. 14. 13. 15.\n",
      " 12. 22. 13. 12. 15. 14. 18. 13. 15. 19. 13. 13. 17. 16. 14. 13. 13. 15.\n",
      " 15. 16. 18. 17. 14. 12. 17. 14. 13. 13. 15. 15. 12. 12. 13. 10. 18. 13.\n",
      " 13. 14. 16. 16. 14. 17. 10. 18. 16. 12. 13. 18. 14. 12. 15. 15. 21. 12.\n",
      " 14. 13. 12. 11. 12. 13. 13. 14. 14. 15. 14. 12. 13. 17. 15. 14. 15. 14.\n",
      " 15. 16. 14. 13. 15. 13. 14. 12. 12. 15. 17. 17. 16. 12. 18. 18. 12. 15.\n",
      " 15. 13. 14. 15. 16. 13. 12. 10. 13. 16. 14. 16. 19. 13. 16. 13. 15. 15.\n",
      " 15. 11. 12. 15. 16. 16. 14. 13. 12. 15. 14. 13. 15. 14. 15. 13. 13. 15.\n",
      " 12. 12. 15. 17. 15. 13. 16. 12. 18. 18. 16. 17. 13. 17. 19. 18. 14. 18.\n",
      " 17. 18. 17. 16. 15. 14. 13. 15. 16. 13. 20. 13. 12. 14. 12. 16. 15. 15.\n",
      " 14. 18. 15. 18. 14. 14. 14. 16. 15. 16. 12. 14. 14. 14. 15. 17. 13. 14.\n",
      " 10. 16. 14. 15. 16. 17. 12. 15. 13. 12. 15. 15. 11. 15. 15. 13. 15. 16.\n",
      " 15. 15. 16. 12. 16. 14. 19. 11. 13. 15. 16. 14. 11. 19. 15. 14. 12. 14.\n",
      " 15. 17.  9. 13. 14. 17. 14. 17. 15. 13. 16. 15. 14. 14. 17. 13. 17. 17.\n",
      " 19. 16. 18. 15. 12. 14. 18. 15. 15. 16. 14. 16. 18. 14. 16. 14. 16. 19.\n",
      " 16. 15. 13. 15. 11. 10. 14. 13. 14. 13. 12. 14. 19. 14. 14. 13. 17. 12.\n",
      " 12. 16. 15. 14. 16. 16. 16. 17. 11. 14. 13. 14. 15. 14. 14. 17. 16. 10.\n",
      " 14. 15. 18. 15. 13. 14. 13. 16. 14. 16. 14. 13. 15. 15. 16. 14. 14. 21.\n",
      " 13. 17. 16. 17. 12. 16. 18. 14. 14. 17. 14. 14. 16. 13. 14. 13. 12. 17.\n",
      " 16. 14. 16. 15. 17. 14. 15. 18. 15. 16. 16. 17. 15. 13.  9. 15. 11. 17.\n",
      " 16. 13. 16. 14. 15. 14. 18. 20. 13. 14. 16. 16. 16. 11. 14. 16. 21. 13.\n",
      " 14. 14. 15. 17. 14. 11. 15. 13. 12. 14. 15. 15. 13. 16. 15. 16. 13. 14.\n",
      " 16. 16. 14. 15. 14. 17. 15. 16. 13. 17. 18. 15. 14. 13. 11. 13. 15. 13.\n",
      " 14. 15. 16. 15. 11. 14. 16. 15. 13. 17. 19. 13. 16. 13. 13. 15. 14. 14.\n",
      " 13. 16. 14. 13. 15. 12.  9. 17. 13. 16. 12. 15. 15. 12. 14. 18. 15. 14.\n",
      " 15. 13. 15. 14. 13. 13. 19. 16. 13. 15.  9. 18. 14. 16. 16. 11. 13. 17.\n",
      " 17. 11. 14. 17. 14. 15. 11. 14. 15. 15. 15. 18. 16. 17. 14. 13. 13. 13.\n",
      " 11. 15. 18. 13. 14. 13. 18. 16. 12. 14. 12. 15. 14. 15. 14. 15. 13. 16.\n",
      " 12. 17. 14. 13. 12. 13. 16. 15. 13. 14. 14. 15. 14. 15. 16. 19. 11. 15.\n",
      " 16. 18. 14. 13. 16. 16. 14. 13. 13. 17. 17. 17. 14. 13. 17. 15. 14. 12.\n",
      " 14. 16. 19. 14. 11. 12. 17. 15. 14. 14. 12. 17. 14. 18. 16. 12. 14. 13.\n",
      " 16. 12. 12. 11. 13. 16. 19. 13. 13. 16. 13. 15. 13. 15. 13. 18. 16. 16.\n",
      " 18. 17. 15. 13. 12. 19. 17. 16. 11. 15. 13. 15. 17. 13. 14. 15. 14. 16.\n",
      " 13. 16. 16. 15. 12. 15. 14. 15. 15. 15. 13. 18. 14. 15. 17. 17. 15. 15.\n",
      " 15. 13. 16. 14. 15. 17. 13. 14. 12. 15. 14. 17. 13. 12. 15. 11. 11. 14.\n",
      " 14. 14. 15. 13. 15. 14. 15. 14. 18. 16. 15. 16. 13. 13. 14. 12. 18. 17.\n",
      " 14. 13. 17. 14. 15. 12. 15. 15. 13. 16. 15. 14. 13. 12. 12. 14. 20. 12.\n",
      " 13. 14. 15. 11. 13. 15. 12. 16. 13. 11. 16. 15. 15. 14. 17. 13. 14. 13.\n",
      " 16. 14. 14. 14. 15. 13. 15. 11. 13. 18. 13. 14. 17. 13. 13. 14. 17. 12.\n",
      " 14. 20. 15. 12. 12. 12. 17. 15. 19. 16. 12. 13. 14. 19. 16. 15. 15. 17.\n",
      " 10. 12. 16. 14. 14. 16. 10. 17. 15. 13. 12. 15. 15. 12. 13. 16. 15. 12.\n",
      " 13. 13. 15. 15. 15. 16. 13. 16. 15. 16. 14. 16. 15. 16. 16. 15. 18. 14.\n",
      " 14. 14. 11. 14. 15. 16. 14. 13. 17. 15. 18. 13. 14. 16. 12. 15. 22. 13.\n",
      " 13. 13. 16. 16. 18. 16. 13. 20. 14. 14. 14. 13. 15. 13. 12. 16. 14. 13.\n",
      " 14. 15. 12. 18. 13. 16. 13. 18. 14. 13. 16. 15. 13. 14. 14. 16. 15. 17.\n",
      " 16. 15. 16. 12. 15. 14. 13. 15. 19.]\n"
     ]
    }
   ],
   "source": [
    "print(posJCR.sim_bb)"
   ]
  },
  {
   "cell_type": "markdown",
   "metadata": {},
   "source": [
    "Remember that the count of BB joins (*countBB*) for our *postive grid* was 27. Check for yourself how many times in the (random) permutations we got a *countBB* greater than (or equal to) 27. Hopefully, from a quick scan you can see that the randomly simulated grids (i.e. the permutations) *never* had more than 26 BB joins. So the 27 BB joins that <a href=\"vis\">we see</a> in our *postitive grid* is very unlikely, and hence we get a very small pseudo p-value. \n",
    "\n",
    "Let's get python to check this for us. First we count how many times `posJCR.sim_bb >= posJCR.bb` is true:"
   ]
  },
  {
   "cell_type": "code",
   "execution_count": 18,
   "metadata": {},
   "outputs": [],
   "source": [
    "C_greater = sum(posJCR.sim_bb >= posJCR.bb)"
   ]
  },
  {
   "cell_type": "markdown",
   "metadata": {},
   "source": [
    "Then we get the number of permutations that were used:"
   ]
  },
  {
   "cell_type": "code",
   "execution_count": 19,
   "metadata": {},
   "outputs": [],
   "source": [
    "C_permutations= len(posJCR.sim_bb)\n",
    "\n",
    "#note we could also use the .permutations attribute:\n",
    "#C_permutations = posJCR.permutations"
   ]
  },
  {
   "cell_type": "markdown",
   "metadata": {},
   "source": [
    "Now we can calculate the pseudo p-value as above:"
   ]
  },
  {
   "cell_type": "code",
   "execution_count": 20,
   "metadata": {},
   "outputs": [
    {
     "name": "stdout",
     "output_type": "stream",
     "text": [
      "0.001\n"
     ]
    }
   ],
   "source": [
    "pseudo_P = (C_greater + 1) / (C_permutations + 1)\n",
    "print(pseudo_P)"
   ]
  },
  {
   "cell_type": "markdown",
   "metadata": {},
   "source": [
    "Now let's look at the *negative* and *random* grids we created above to check we can interpret the join counts statistics for those too. \n",
    "\n",
    "We'll use a function output the results (so we don't need to type code everytime):"
   ]
  },
  {
   "cell_type": "code",
   "execution_count": 21,
   "metadata": {},
   "outputs": [],
   "source": [
    "#function to output (permutation) results from join_counts object \n",
    "def printJointCounts_perm(JCW):\n",
    "    bcount = JCW.y.sum()\n",
    "    wcount = len(JCW.y) - bcount\n",
    "    print(\"Count Black = \" + str(bcount)) \n",
    "    print(\"Count White = \" + str(wcount)) \n",
    "    print(\"Total Joins = \" + str(JCW.J))\n",
    "    print(\"BB Joins: count = \" + str(JCW.bb) + \", pseudo p = \" + str(round(JCW.p_sim_bb,3)) + \")\")\n",
    "    print(\"WW Joins: count = \" + str(JCW.ww))\n",
    "    print(\"BW Joins: count = \" + str(JCW.bw) + \", pseudo p = \" + str(round(JCW.p_sim_bw,3)) + \")\")"
   ]
  },
  {
   "cell_type": "markdown",
   "metadata": {},
   "source": [
    "Now we can create a `Join_Counts` object for the *Negative Grid* and print the results:"
   ]
  },
  {
   "cell_type": "code",
   "execution_count": 22,
   "metadata": {},
   "outputs": [
    {
     "name": "stdout",
     "output_type": "stream",
     "text": [
      "Count Black = 18\n",
      "Count White = 18\n",
      "Total Joins = 60.0\n",
      "BB Joins: count = 0.0, pseudo p = 1.0)\n",
      "WW Joins: count = 0.0\n",
      "BW Joins: count = 60.0, pseudo p = 0.001)\n"
     ]
    }
   ],
   "source": [
    "negJCR = esda.join_counts.Join_Counts(sgrid['Negative'], RW)\n",
    "printJointCounts_perm(negJCR)"
   ]
  },
  {
   "cell_type": "markdown",
   "metadata": {},
   "source": [
    "Here, we get a very small pseudo p-value for the BW joins count, meaning we can reject the null hypothesis of spatial randomness (e.g. at 95% confidence) and conclude that there is negative spatial autocorrelation. \n",
    "\n",
    "And for the *Random Grid*:"
   ]
  },
  {
   "cell_type": "code",
   "execution_count": 23,
   "metadata": {},
   "outputs": [
    {
     "name": "stdout",
     "output_type": "stream",
     "text": [
      "Count Black = 18\n",
      "Count White = 18\n",
      "Total Joins = 60.0\n",
      "BB Joins: count = 15.0, pseudo p = 0.487)\n",
      "WW Joins: count = 16.0\n",
      "BW Joins: count = 29.0, pseudo p = 0.735)\n"
     ]
    }
   ],
   "source": [
    "randJCR = esda.join_counts.Join_Counts(sgrid['Random'], RW)\n",
    "printJointCounts_perm(randJCR)"
   ]
  },
  {
   "cell_type": "markdown",
   "metadata": {
    "scrolled": true
   },
   "source": [
    "Here, pseudo p-values for both BW and BB joins count are *not* small, meaning we cannot reject the null hypothesis of spatial randomness (e.g. at 95% confidence) and conclude that there is *no* spatial autocorrelation (neither positive nor negative). "
   ]
  },
  {
   "cell_type": "markdown",
   "metadata": {},
   "source": [
    "### A note on WW\n",
    "You may be wondering why we didn't check the pseudo p-value for WW join counts above. There are two reasons for this, one pragmatic and one theoretical. \n",
    "\n",
    "Pragmatically, we didn't because PySAL does not generate permutations for WW joins. So if we wanted to, we would need to write our own code to calculate WW join counts for each permutation and then compare (which maybe you could, using the [source code](https://pysal.org/esda/_modules/esda/join_counts.html#Join_Counts) as a guide).\n",
    "\n",
    "Theoretically, we don't need to generate pseudo p-values for WW. This is because we can assume that whatever result we get for BB will be the same for WW as they have a reciprocal relationship. If we have positive spatial autocorrelation for BB then we *must* also have positive spatial autocorrelation for WW. And if we no spatial autocorrelation for BB then we also have no spatial autocorrelation for WW. Finally, the BW measure already accounts for both Black and White regions (so any negative autocorrelation found already applies to both region types).   "
   ]
  },
  {
   "cell_type": "markdown",
   "metadata": {},
   "source": [
    "### A note of caution\n",
    "\n",
    "Let's create `join_counts` objects for <a href=\"#vis\">the three grids</a>, but this time using the *Queen Rule*."
   ]
  },
  {
   "cell_type": "code",
   "execution_count": 24,
   "metadata": {},
   "outputs": [
    {
     "name": "stdout",
     "output_type": "stream",
     "text": [
      "Count Black = 18\n",
      "Count White = 18\n",
      "Total Joins = 110.0\n",
      "BB Joins: count = 47.0, pseudo p = 0.001)\n",
      "WW Joins: count = 47.0\n",
      "BW Joins: count = 16.0, pseudo p = 1.0)\n"
     ]
    }
   ],
   "source": [
    "posJCQ = esda.join_counts.Join_Counts(sgrid['Positive'], QW)\n",
    "printJointCounts_perm(posJCQ)"
   ]
  },
  {
   "cell_type": "code",
   "execution_count": 25,
   "metadata": {},
   "outputs": [
    {
     "name": "stdout",
     "output_type": "stream",
     "text": [
      "Count Black = 18\n",
      "Count White = 18\n",
      "Total Joins = 110.0\n",
      "BB Joins: count = 25.0, pseudo p = 0.72)\n",
      "WW Joins: count = 25.0\n",
      "BW Joins: count = 60.0, pseudo p = 0.299)\n"
     ]
    }
   ],
   "source": [
    "negJCQ = esda.join_counts.Join_Counts(sgrid['Negative'], QW)\n",
    "printJointCounts_perm(negJCQ)"
   ]
  },
  {
   "cell_type": "code",
   "execution_count": 26,
   "metadata": {},
   "outputs": [
    {
     "name": "stdout",
     "output_type": "stream",
     "text": [
      "Count Black = 18\n",
      "Count White = 18\n",
      "Total Joins = 110.0\n",
      "BB Joins: count = 25.0, pseudo p = 0.724)\n",
      "WW Joins: count = 27.0\n",
      "BW Joins: count = 58.0, pseudo p = 0.446)\n"
     ]
    }
   ],
   "source": [
    "randJCQ = esda.join_counts.Join_Counts(sgrid['Random'], QW)\n",
    "printJointCounts_perm(randJCQ)"
   ]
  },
  {
   "cell_type": "markdown",
   "metadata": {},
   "source": [
    "Compare these results for the Rook Rule to the joins count statistics and pseudo p-values when using the Queen Rule. For example, look to see if there there is positive, negative or no spatial autocorrelation for each grid.  \n",
    "\n",
    "You should be able to see that results are consistent between Rook and Queen rules for the *Positive* (both indicate positive spatial autocorrelation) and *Random* (no spatial autocorrelation) grids. But for the *Negative* grid note that while the pseudo p-value indicates statistically significant (at 95%) negative spatial autocorrelation for the Rook Rule, the results indicate *no* spatial autocorrelation for the Queen Rule. Think about why the configuration for the *Negative grid* results in this inconsistency. \n",
    "\n",
    "As [O'Sullivan and Unwin (2003, p.191)](https://books.google.co.uk/books/about/Geographic_Information_Analysis.html?id=K_kQN-GO7uUC) note,\n",
    "\n",
    "> Generally, the choice of neighbourhoods [rule] should not affect the scores and the decision about the overal structure, but this is not always the case. ... Despite clearly nonrandom appearance of the [*Negative*] grid, *none* of these [p-values for Queen Rule] indicate any departure from the independent random process! This demonstrates that the joins count statistic must be treated with some caution."
   ]
  },
  {
   "cell_type": "markdown",
   "metadata": {},
   "source": [
    "# Statistical Significance: Analytic <a name=\"analytic\"></a>\n",
    "\n",
    "In Chapter 7 of the **2003** edition of their book *Geographic Information Analysis*, [O'Sullivan and Unwin provide a detailed work through](https://github.com/jamesdamillington/john-snow/blob/main/pdf/OSullivanUnwin2003_Section7_4.pdf) of the analytic approach to deriving z-scores (i.e. using equations rather than the permuation approach above). For those who want to work through this analytic approach (to compound understanding), the code below provides a python implementation of the equations therein.\n",
    "\n",
    "A short discussion is provided below the functions implementing the equations, showing their use and commenting on interpretation. "
   ]
  },
  {
   "cell_type": "code",
   "execution_count": 27,
   "metadata": {},
   "outputs": [],
   "source": [
    "def calcM(weightsObject):\n",
    "\n",
    "    #function to calculate Eq 7.26 OSU (2003) \n",
    "\n",
    "    cumsum=0\n",
    "    for a in weightsObject:\n",
    "\n",
    "        #a is the weights for each location (all 1s)\n",
    "        nbs = list(a[1].values())  #get these weights as a list\n",
    "\n",
    "        #replace the elements of the list with the length of the list -1\n",
    "        for i,n in enumerate(nbs):\n",
    "            nbs[i] = len(nbs)-1\n",
    "\n",
    "        #cumulative sum of the new values\n",
    "        cumsum+=np.sum(nbs)\n",
    "\n",
    "    #return 0.5*cusmsum\n",
    "    return(cumsum*0.5)"
   ]
  },
  {
   "cell_type": "code",
   "execution_count": 28,
   "metadata": {},
   "outputs": [],
   "source": [
    "def calcpB(JCW):\n",
    "    #OSU (2003) assume pB = 0.5 but note normally it would be estimated from the data \n",
    "    return(0.5)\n",
    "    #one way to estimate from data (assumes Black is coded 1): \n",
    "    #sum of y / length of y   [count B / count cells]\n",
    "    #return(JCW.y.sum()/len(JCW.y))\n",
    "    \n",
    "\n",
    "def calcpW(JCW):\n",
    "    #OSU (2003) assume pW = 0.5 but note normally it would be estimated from the data \n",
    "    return(0.5)\n",
    "    #one way to estimate from data (assumes White is coded 0)\n",
    "    #length of y - (sum of y / length of y)   [count cells - (count B / count cells)]\n",
    "    #return((len(JCW.y) - JCW.y.sum())/len(JCW.y))"
   ]
  },
  {
   "cell_type": "code",
   "execution_count": 29,
   "metadata": {},
   "outputs": [],
   "source": [
    "def calcExpectedBB(JCW):\n",
    "    #kpB^2 from Eq 7.24 OSU (2003)\n",
    "    return(JCW.J*calcpB(JCW)**2)\n",
    "\n",
    "def calcExpectedWW(JCW):\n",
    "    #kpW^2 from Eq 7.24 OSU (2003)\n",
    "    return(JCW.J*calcpW(JCW)**2)\n",
    "\n",
    "def calcExpectedBW(JCW):\n",
    "    #2kpBpW from Eq 7.24 OSU (2003)\n",
    "    return(2*JCW.J*calcpB(JCW)*calcpW(JCW))"
   ]
  },
  {
   "cell_type": "code",
   "execution_count": 30,
   "metadata": {},
   "outputs": [],
   "source": [
    "def calcStdDevBB(JCW):\n",
    "    #Eq 7.29 OSU (2003)\n",
    "    f=calcExpectedBB(JCW)\n",
    "    s=2*calcM(JCW.w)*calcpB(JCW)**3\n",
    "    t=(JCW.J + (2*calcM(JCW.w)))*calcpB(JCW)**4\n",
    "    \n",
    "    return(np.sqrt(f+s-t))\n",
    "\n",
    "def calcStdDevWW(JCW):\n",
    "    #Eq 7.29 OSU (2003)\n",
    "    return(calcStdDevBB(JCW))\n",
    "\n",
    "def calcStdDevBW(JCW):\n",
    "    #Eq 7.30 OSU (2003)\n",
    "    f=2*(JCW.J+calcM(JCW.w))*calcpB(JCW)*calcpW(JCW)\n",
    "    s=4*(JCW.J+(2*calcM(JCW.w)))*calcpB(JCW)**2*calcpW(JCW)**2\n",
    "    \n",
    "    return(np.sqrt(f-s))"
   ]
  },
  {
   "cell_type": "code",
   "execution_count": 31,
   "metadata": {},
   "outputs": [],
   "source": [
    "def calcZBB(JCW):\n",
    "    #(observed - expected) / StdDev\n",
    "    return((JCW.bb - calcExpectedBB(JCW)) / calcStdDevBB(JCW))\n",
    "\n",
    "def calcZWW(JCW):\n",
    "    #(observed - expected) / StdDev\n",
    "    return((JCW.ww - calcExpectedWW(JCW)) / calcStdDevWW(JCW))\n",
    "\n",
    "def calcZBW(JCW):\n",
    "    #(observed - expected) / StdDev\n",
    "    return((JCW.bw - calcExpectedBW(JCW)) / calcStdDevBW(JCW))"
   ]
  },
  {
   "cell_type": "code",
   "execution_count": 32,
   "metadata": {},
   "outputs": [],
   "source": [
    "#function to output results from join_counts object, with z-scores \n",
    "def printJointCounts(JCW):\n",
    "    bcount = JCW.y.sum()\n",
    "    wcount = len(JCW.y) - bcount\n",
    "    print(\"Count Black = \" + str(bcount)) \n",
    "    print(\"Count White = \" + str(wcount)) \n",
    "    print(\"Total Joins = \" + str(JCW.J))\n",
    "    print(\"BB Joins: count = \" + str(JCW.bb) + \",\\t z = \", str(round(calcZBB(JCW),3)) + \")\")\n",
    "    print(\"WW Joins: count = \" + str(JCW.ww) + \",\\t z = \", str(round(calcZWW(JCW),3)) + \")\")\n",
    "    print(\"BW Joins: count = \" + str(JCW.bw) + \",\\t z = \", str(round(calcZBW(JCW),3)) + \")\")"
   ]
  },
  {
   "cell_type": "markdown",
   "metadata": {},
   "source": [
    "The code above allows us to analystically calculate z-scores for the different count types. For example, for the *positive* and *negative* grids using Rook Rule: "
   ]
  },
  {
   "cell_type": "code",
   "execution_count": 33,
   "metadata": {},
   "outputs": [
    {
     "name": "stdout",
     "output_type": "stream",
     "text": [
      "Count Black = 18\n",
      "Count White = 18\n",
      "Total Joins = 60.0\n",
      "BB Joins: count = 27.0,\t z =  2.2)\n",
      "WW Joins: count = 27.0,\t z =  2.2)\n",
      "BW Joins: count = 6.0,\t z =  -6.197)\n"
     ]
    }
   ],
   "source": [
    "printJointCounts(posJCR)"
   ]
  },
  {
   "cell_type": "code",
   "execution_count": 34,
   "metadata": {},
   "outputs": [
    {
     "name": "stdout",
     "output_type": "stream",
     "text": [
      "Count Black = 18\n",
      "Count White = 18\n",
      "Total Joins = 60.0\n",
      "BB Joins: count = 0.0,\t z =  -2.75)\n",
      "WW Joins: count = 0.0,\t z =  -2.75)\n",
      "BW Joins: count = 60.0,\t z =  7.746)\n"
     ]
    }
   ],
   "source": [
    "printJointCounts(negJCR)"
   ]
  },
  {
   "cell_type": "markdown",
   "metadata": {},
   "source": [
    "We will also generate the random grid O'Sullivan and Unwin (2003) create to allow direct comparison with their results:"
   ]
  },
  {
   "cell_type": "code",
   "execution_count": 35,
   "metadata": {},
   "outputs": [
    {
     "name": "stdout",
     "output_type": "stream",
     "text": [
      "[1, 0, 0, 1, 0, 1, 1, 0, 0, 0, 1, 0, 1, 0, 1, 1, 0, 1, 1, 0, 0, 1, 0, 1, 0, 0, 0, 0, 1, 0, 0, 0, 1, 0, 0, 1]\n"
     ]
    },
    {
     "data": {
      "image/png": "[encoded data removed]",
      "text/plain": [
       "<Figure size 288x288 with 1 Axes>"
      ]
     },
     "metadata": {
      "needs_background": "light"
     },
     "output_type": "display_data"
    }
   ],
   "source": [
    "osuids = [0, 3, 5, 6, 10, 12, 14, 15, 17, 18, 21, 23, 28, 32, 35]\n",
    "osu = [0] * 36\n",
    "for i in range(0,len(osu)):\n",
    "    if(i in osuids):\n",
    "        osu[i] = 1\n",
    "print(osu)\n",
    "sgrid['OSU_75b'] = osu\n",
    "singlePlot('OSU_75b')"
   ]
  },
  {
   "cell_type": "code",
   "execution_count": 36,
   "metadata": {
    "scrolled": true
   },
   "outputs": [
    {
     "name": "stdout",
     "output_type": "stream",
     "text": [
      "Count Black = 15\n",
      "Count White = 21\n",
      "Total Joins = 60.0\n",
      "BB Joins: count = 6.0,\t z =  -1.65)\n",
      "WW Joins: count = 19.0,\t z =  0.733)\n",
      "BW Joins: count = 35.0,\t z =  1.291)\n"
     ]
    }
   ],
   "source": [
    "osuJCR = esda.join_counts.Join_Counts(sgrid['OSU_75b'], RW)\n",
    "printJointCounts(osuJCR)"
   ]
  },
  {
   "cell_type": "markdown",
   "metadata": {},
   "source": [
    "From the results from these three grids you should be able to see how the z-scores match Table 7.2 of O'Sullivan and Unwin (2003).\n",
    "\n",
    "We could take this a step further and compare the z-scores to a normal distribution to calculate a p-value. For example: "
   ]
  },
  {
   "cell_type": "code",
   "execution_count": 37,
   "metadata": {},
   "outputs": [
    {
     "name": "stdout",
     "output_type": "stream",
     "text": [
      "0.014\n"
     ]
    }
   ],
   "source": [
    "import scipy.stats\n",
    "z = calcZWW(posJCR)\n",
    "p = scipy.stats.norm.sf(abs(z))\n",
    "print(round(p,3))"
   ]
  },
  {
   "cell_type": "markdown",
   "metadata": {},
   "source": [
    "However, [Cliff et al. (1974, p.110)](https://doi.org/10.2307/621612) note;\n",
    "\n",
    "> Provided that the distribution of the test statistic is approximately normal for the county system under consideration, Eq (1.3) [used above in `calcZ` functions] can be treated as a standard normal deviate. Cliff and Ord (1973, chapter 2) have shown that the approximation is reasonable for moderate *n*, provided that P(X = 1) is not too near 0 or 1, and the county system is not dominated by few counties. However, for many county systems of practical interest, such as the counties of England, Wales or Scotland, the states of the United States, or the counties of Western Europe, *n* is sufficiently small for the normal distribution to be misleading. \n",
    "\n",
    "In the cases used here, our *n* is likely not sufficiently large and we should use a chi-square. \n",
    "\n",
    "In general, when calculating joins counts with PySAL it is fine to use the pseudo p-values from the permutation approach, and greater uncertainty may actually arise from choice of Contiguity Rule (so given how fast it is to computer, it's often worth comapring results between Rook and Queen rules). "
   ]
  },
  {
   "cell_type": "markdown",
   "metadata": {},
   "source": [
    "# Credits!\n",
    "\n",
    "## Contributors:\n",
    "The following individual(s) have contributed to these teaching materials: James Millington (james.millington@kcl.ac.uk).\n",
    "\n",
    "## License\n",
    "These teaching materials are licensed under a mix of [The MIT License](https://opensource.org/licenses/mit-license.php) and the [Creative Commons Attribution-NonCommercial-ShareAlike 4.0 license](https://creativecommons.org/licenses/by-nc-sa/4.0/)."
   ]
  }
 ],
 "metadata": {
  "kernelspec": {
   "display_name": "Python [conda env:sds2020]",
   "language": "python",
   "name": "conda-env-sds2020-py"
  },
  "language_info": {
   "codemirror_mode": {
    "name": "ipython",
    "version": 3
   },
   "file_extension": ".py",
   "mimetype": "text/x-python",
   "name": "python",
   "nbconvert_exporter": "python",
   "pygments_lexer": "ipython3",
   "version": "3.6.11"
  }
 },
 "nbformat": 4,
 "nbformat_minor": 2
}
